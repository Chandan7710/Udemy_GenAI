{
 "cells": [
  {
   "cell_type": "markdown",
   "metadata": {},
   "source": [
    "#### Loops\n",
    "Video Outline:\n",
    "1. Introduction to Loops\n",
    "2. for Loop\n",
    "   - Iterating over a range\n",
    "   - Iterating over a string\n",
    "\n",
    "3. while Loop\n",
    "4. Loop Control Statements\n",
    "    - break\n",
    "    - continue\n",
    "    - pass\n",
    "5. Nested Loops\n",
    "6. Practical Examples and Common Errors"
   ]
  },
  {
   "cell_type": "code",
   "execution_count": 15,
   "metadata": {},
   "outputs": [
    {
     "data": {
      "text/plain": [
       "range(0, 5)"
      ]
     },
     "execution_count": 15,
     "metadata": {},
     "output_type": "execute_result"
    }
   ],
   "source": [
    "range(5)"
   ]
  },
  {
   "cell_type": "code",
   "execution_count": 16,
   "metadata": {},
   "outputs": [
    {
     "name": "stdout",
     "output_type": "stream",
     "text": [
      "0\n",
      "1\n",
      "2\n",
      "3\n",
      "4\n"
     ]
    }
   ],
   "source": [
    "## for loop\n",
    "\n",
    "for i in range(5):\n",
    "    print(i)"
   ]
  },
  {
   "cell_type": "code",
   "execution_count": 17,
   "metadata": {},
   "outputs": [
    {
     "name": "stdout",
     "output_type": "stream",
     "text": [
      "1\n",
      "2\n",
      "3\n",
      "4\n",
      "5\n"
     ]
    }
   ],
   "source": [
    "for i in range(1,6):\n",
    "    print(i)"
   ]
  },
  {
   "cell_type": "code",
   "execution_count": 18,
   "metadata": {},
   "outputs": [
    {
     "name": "stdout",
     "output_type": "stream",
     "text": [
      "1\n",
      "3\n",
      "5\n",
      "7\n",
      "9\n"
     ]
    }
   ],
   "source": [
    "for i in range(1,10,2):\n",
    "    print(i)"
   ]
  },
  {
   "cell_type": "code",
   "execution_count": 19,
   "metadata": {},
   "outputs": [
    {
     "name": "stdout",
     "output_type": "stream",
     "text": [
      "10\n",
      "9\n",
      "8\n",
      "7\n",
      "6\n",
      "5\n",
      "4\n",
      "3\n",
      "2\n"
     ]
    }
   ],
   "source": [
    "for i in range(10,1,-1):\n",
    "    print(i)"
   ]
  },
  {
   "cell_type": "code",
   "execution_count": 20,
   "metadata": {},
   "outputs": [
    {
     "name": "stdout",
     "output_type": "stream",
     "text": [
      "10\n",
      "8\n",
      "6\n",
      "4\n",
      "2\n"
     ]
    }
   ],
   "source": [
    "for i in range(10,1,-2):\n",
    "    print(i)"
   ]
  },
  {
   "cell_type": "code",
   "execution_count": 21,
   "metadata": {},
   "outputs": [
    {
     "name": "stdout",
     "output_type": "stream",
     "text": [
      "K\n",
      "r\n",
      "i\n",
      "s\n",
      "h\n",
      " \n",
      "N\n",
      "a\n",
      "i\n",
      "k\n"
     ]
    }
   ],
   "source": [
    "## strings\n",
    "\n",
    "str=\"Krish Naik\"\n",
    "\n",
    "for i in str:\n",
    "    print(i)"
   ]
  },
  {
   "cell_type": "code",
   "execution_count": 22,
   "metadata": {},
   "outputs": [
    {
     "name": "stdout",
     "output_type": "stream",
     "text": [
      "0\n",
      "1\n",
      "2\n",
      "3\n",
      "4\n"
     ]
    }
   ],
   "source": [
    "## while loop\n",
    "\n",
    "## The while loop continues to execute as long as the condition is True.\n",
    "\n",
    "count=0\n",
    "\n",
    "while count<5:\n",
    "    print(count)\n",
    "    count=count+1\n",
    "\n",
    "\n"
   ]
  },
  {
   "cell_type": "code",
   "execution_count": 23,
   "metadata": {},
   "outputs": [
    {
     "name": "stdout",
     "output_type": "stream",
     "text": [
      "0\n",
      "1\n",
      "2\n",
      "3\n",
      "4\n"
     ]
    }
   ],
   "source": [
    "## Loop Control Statements\n",
    "\n",
    "## break\n",
    "## The break statement exits the loop permaturely\n",
    "\n",
    "## break sstatement\n",
    "\n",
    "for i in range(10):\n",
    "    if i==5:\n",
    "        break\n",
    "    print(i)\n",
    "   "
   ]
  },
  {
   "cell_type": "code",
   "execution_count": 24,
   "metadata": {},
   "outputs": [
    {
     "name": "stdout",
     "output_type": "stream",
     "text": [
      "1\n",
      "3\n",
      "5\n",
      "7\n",
      "9\n"
     ]
    }
   ],
   "source": [
    "## continue\n",
    "\n",
    "## The continue statement skips the current iteration and continues with the next.\n",
    "\n",
    "for i in range(10):\n",
    "    if i%2==0:\n",
    "        continue\n",
    "    print(i)\n",
    "\n",
    "\n"
   ]
  },
  {
   "cell_type": "code",
   "execution_count": 25,
   "metadata": {},
   "outputs": [
    {
     "name": "stdout",
     "output_type": "stream",
     "text": [
      "0\n",
      "1\n",
      "2\n",
      "3\n",
      "4\n"
     ]
    }
   ],
   "source": [
    "## pass\n",
    "## The pass statement is a null operation; it does nothing.\n",
    "\n",
    "for i in range(5):\n",
    "    if i==3:\n",
    "        pass\n",
    "    print(i)\n"
   ]
  },
  {
   "cell_type": "code",
   "execution_count": 26,
   "metadata": {},
   "outputs": [
    {
     "name": "stdout",
     "output_type": "stream",
     "text": [
      "i:0 and j:0\n",
      "i:0 and j:1\n",
      "i:1 and j:0\n",
      "i:1 and j:1\n",
      "i:2 and j:0\n",
      "i:2 and j:1\n",
      "i:10 and j:5\n",
      "i:10 and j:10\n",
      "i:20 and j:5\n",
      "i:20 and j:10\n",
      "i:30 and j:5\n",
      "i:30 and j:10\n",
      "i:40 and j:5\n",
      "i:40 and j:10\n",
      "i:50 and j:5\n",
      "i:50 and j:10\n"
     ]
    }
   ],
   "source": [
    "## Nested loopss\n",
    "## a loop inside a loop\n",
    "\n",
    "for i in range(3):\n",
    "    for j in range(2):\n",
    "        print(f\"i:{i} and j:{j}\")\n",
    "\n",
    "\n",
    "for i in range(1, 6):\n",
    "    for j in range(1, 3):\n",
    "        print(f\"i:{i*10} and j:{j*5}\")"
   ]
  },
  {
   "cell_type": "code",
   "execution_count": 27,
   "metadata": {},
   "outputs": [
    {
     "name": "stdout",
     "output_type": "stream",
     "text": [
      "Sum of first 10 natural number: 55\n"
     ]
    }
   ],
   "source": [
    "## Examples- Calculate the sum of first N natural numbers using a while and for loop\n",
    "\n",
    "## while loop  \n",
    "\n",
    "n=10   \n",
    "sum=0\n",
    "count=1\n",
    "\n",
    "while count<=n:\n",
    "    sum=sum+count\n",
    "    count=count+1\n",
    "\n",
    "print(\"Sum of first 10 natural number:\",sum)\n"
   ]
  },
  {
   "cell_type": "code",
   "execution_count": 28,
   "metadata": {},
   "outputs": [
    {
     "name": "stdout",
     "output_type": "stream",
     "text": [
      "55\n"
     ]
    }
   ],
   "source": [
    "n=10   \n",
    "sum=0\n",
    "for i in range(11):\n",
    "    sum=sum+i\n",
    "\n",
    "print(sum)"
   ]
  },
  {
   "cell_type": "code",
   "execution_count": 29,
   "metadata": {},
   "outputs": [],
   "source": [
    "num = 2\n",
    "for i in range(2,num):\n",
    "    print()"
   ]
  },
  {
   "cell_type": "code",
   "execution_count": 30,
   "metadata": {},
   "outputs": [
    {
     "name": "stdout",
     "output_type": "stream",
     "text": [
      "0\n",
      "1\n",
      "2\n",
      "3\n",
      "4\n",
      "Loop completed without break\n"
     ]
    },
    {
     "data": {
      "text/plain": [
       "'\\nHere, the loop runs through all values from 0 to 4, and since there’s no break, the else block is executed.\\n'"
      ]
     },
     "execution_count": 30,
     "metadata": {},
     "output_type": "execute_result"
    }
   ],
   "source": [
    "\"\"\"\n",
    "In Python, the else clause in a for loop has a special behavior that might be a bit surprising if you're not familiar with it. \n",
    "The else block is executed only if the for loop completes all its iterations without encountering a break statement.\n",
    "\n",
    "Here’s a quick summary of how it works:\n",
    "\n",
    "The for loop iterates over a sequence (like a list or a range).\n",
    "If the loop encounters a break statement, it exits immediately, and the else block is not executed.\n",
    "If the loop completes all iterations without a break, the else block is executed.\n",
    "\"\"\"\n",
    "\n",
    "# Example 1: Without break\n",
    "\n",
    "for i in range(5):\n",
    "    print(i)\n",
    "else:\n",
    "    print(\"Loop completed without break\")\n",
    "\n",
    "\"\"\"\n",
    "Here, the loop runs through all values from 0 to 4, and since there’s no break, the else block is executed.\n",
    "\"\"\""
   ]
  },
  {
   "cell_type": "code",
   "execution_count": 31,
   "metadata": {},
   "outputs": [
    {
     "name": "stdout",
     "output_type": "stream",
     "text": [
      "0\n",
      "1\n",
      "2\n"
     ]
    },
    {
     "data": {
      "text/plain": [
       "'\\nIn this case, when i is 3, the loop encounters the break statement and exits. \\nThe else block is not executed because the loop did not complete all its iterations.\\n'"
      ]
     },
     "execution_count": 31,
     "metadata": {},
     "output_type": "execute_result"
    }
   ],
   "source": [
    "# Example 2: With break\n",
    "\n",
    "for i in range(5):\n",
    "    if i == 3:\n",
    "        break\n",
    "    print(i)\n",
    "else:\n",
    "    print(\"Loop completed without break\")\n",
    "\n",
    "\"\"\"\n",
    "In this case, when i is 3, the loop encounters the break statement and exits. \n",
    "The else block is not executed because the loop did not complete all its iterations.\n",
    "\"\"\""
   ]
  },
  {
   "cell_type": "code",
   "execution_count": 32,
   "metadata": {},
   "outputs": [
    {
     "name": "stdout",
     "output_type": "stream",
     "text": [
      "2\n",
      "3\n",
      "5\n",
      "7\n",
      "11\n",
      "13\n",
      "17\n",
      "19\n",
      "23\n",
      "29\n",
      "31\n",
      "37\n",
      "41\n",
      "43\n",
      "47\n",
      "53\n",
      "59\n",
      "61\n",
      "67\n",
      "71\n",
      "73\n",
      "79\n",
      "83\n",
      "89\n",
      "97\n"
     ]
    }
   ],
   "source": [
    "\"\"\"\n",
    "A prime number is a natural number greater than 1 that has no positive divisors other than 1 and itself. \n",
    "In other words, a prime number can only be divided evenly by 1 and the number itself.\n",
    "\n",
    "Characteristics of Prime Numbers:\n",
    "Divisibility: A prime number has exactly two distinct positive divisors: 1 and itself.\n",
    "Examples: The first few prime numbers are 2, 3, 5, 7, 11, 13, 17, 19, 23, 29, and so on.\n",
    "Explanation of 1 and 2:\n",
    "1 is Not a Prime Number: The number 1 is not considered a prime number because it only has one positive divisor (itself). \n",
    "To be classified as a prime number, a number must have exactly two distinct positive divisors, which 1 does not have.\n",
    "\n",
    "2 is a Prime Number: The number 2 is the smallest and the only even prime number. \n",
    "It has exactly two distinct positive divisors: 1 and 2. Since it meets the criteria of having exactly two divisors, it is a prime number.\n",
    "\n",
    "\"\"\"\n",
    "## Example- Prime numbers between 1 and 100\n",
    "\n",
    "for num in range(1,101):\n",
    "    if num>1:\n",
    "        for i in range(2,num):\n",
    "            if num%i==0:\n",
    "                break\n",
    "        else:\n",
    "            print(num)"
   ]
  },
  {
   "cell_type": "markdown",
   "metadata": {},
   "source": [
    "#### Conclusion:\n",
    "- Loops are powerful constructs in Python that allow you to execute a block of code multiple times. \n",
    "- By understanding and using for and while loops, along with loop control statements like \n",
    "break, continue, and pass, you can handle a wide range of programming tasks efficiently."
   ]
  }
 ],
 "metadata": {
  "kernelspec": {
   "display_name": "Python 3",
   "language": "python",
   "name": "python3"
  },
  "language_info": {
   "codemirror_mode": {
    "name": "ipython",
    "version": 3
   },
   "file_extension": ".py",
   "mimetype": "text/x-python",
   "name": "python",
   "nbconvert_exporter": "python",
   "pygments_lexer": "ipython3",
   "version": "3.12.4"
  }
 },
 "nbformat": 4,
 "nbformat_minor": 2
}
