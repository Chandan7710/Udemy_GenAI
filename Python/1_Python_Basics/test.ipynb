{
 "cells": [
  {
   "cell_type": "code",
   "execution_count": 15,
   "metadata": {},
   "outputs": [
    {
     "name": "stdout",
     "output_type": "stream",
     "text": [
      "Om Namo Bhagavate Vasudevaya Namah\n",
      "\n",
      "\n",
      "ಓಂ ನಮಃ ಶಿವಾಯಃ\n",
      "\n",
      "\n",
      "ಶ್ರೀ ರುದ್ರಾಯ ನಮಃ ಓಂ ಪಾರ್ವತೀಪತ್ಯೇ ನಮಃ\n",
      "\n",
      "\n",
      "ಓಂ ತ್ರ್ಯಂಬಕಂ ಯಜಾಮಹೇ ಸುಗಂಧಿಂ ಪುಷ್ಟಿ ವರ್ಧನಂ ಉರ್ವಾರುಕಮಿವ ಬಂಧನಾನ್ ಮೃತ್ಯೋರ್ ಮುಕ್ಷೀಯ ಮಾಮೃತಾತ್\n",
      "\n",
      "\n",
      "ಶಾಂತಾಕಾರಂ ಭುಜಗಶಯನಂ ಪದ್ಮನಾಭಂ ಸುರೇಶಂ\n",
      "ವಿಶ್ವಧಾರಂ ಗಗನಸದ್ರಿಶಂ, ಮೇಘವರ್ಣಂ ಶುಭಾಂಗಂ\n",
      "ಲಕ್ಷ್ಮಿಂಕಾತಂ ಕಮಲಾನಯನಂ, ಯೋಗಿಭಿರ್ಧ್ಯಾನಗಮ್ಯಂ\n",
      "ವಂದೇ ವಿಷ್ಣುಂ ಭವಭಯಹರಂ, ಸರ್ವಲೋಕೈಕನಾಥಂ\n"
     ]
    }
   ],
   "source": [
    "print(\"Om Namo Bhagavate Vasudevaya Namah\")\n",
    "print(\"\\n\")\n",
    "print(\"ಓಂ ನಮಃ ಶಿವಾಯಃ\")\n",
    "print(\"\\n\")\n",
    "print(\"ಶ್ರೀ ರುದ್ರಾಯ ನಮಃ ಓಂ ಪಾರ್ವತೀಪತ್ಯೇ ನಮಃ\")\n",
    "print(\"\\n\")\n",
    "print(\"ಓಂ ತ್ರ್ಯಂಬಕಂ ಯಜಾಮಹೇ ಸುಗಂಧಿಂ ಪುಷ್ಟಿ ವರ್ಧನಂ ಉರ್ವಾರುಕಮಿವ ಬಂಧನಾನ್ ಮೃತ್ಯೋರ್ ಮುಕ್ಷೀಯ ಮಾಮೃತಾತ್\")\n",
    "print(\"\\n\")\n",
    "print(\"\"\"ಶಾಂತಾಕಾರಂ ಭುಜಗಶಯನಂ ಪದ್ಮನಾಭಂ ಸುರೇಶಂ\n",
    "ವಿಶ್ವಧಾರಂ ಗಗನಸದ್ರಿಶಂ, ಮೇಘವರ್ಣಂ ಶುಭಾಂಗಂ\n",
    "ಲಕ್ಷ್ಮಿಂಕಾತಂ ಕಮಲಾನಯನಂ, ಯೋಗಿಭಿರ್ಧ್ಯಾನಗಮ್ಯಂ\n",
    "ವಂದೇ ವಿಷ್ಣುಂ ಭವಭಯಹರಂ, ಸರ್ವಲೋಕೈಕನಾಥಂ\"\"\")"
   ]
  },
  {
   "cell_type": "markdown",
   "metadata": {},
   "source": [
    "### Python Learning"
   ]
  },
  {
   "cell_type": "code",
   "execution_count": 12,
   "metadata": {},
   "outputs": [
    {
     "name": "stdout",
     "output_type": "stream",
     "text": [
      "Learning Generative AI\n"
     ]
    }
   ],
   "source": [
    "print(\"Learning Generative AI\")"
   ]
  },
  {
   "cell_type": "code",
   "execution_count": 13,
   "metadata": {},
   "outputs": [
    {
     "data": {
      "text/plain": [
       "20"
      ]
     },
     "execution_count": 13,
     "metadata": {},
     "output_type": "execute_result"
    }
   ],
   "source": [
    "10+10"
   ]
  },
  {
   "cell_type": "code",
   "execution_count": null,
   "metadata": {},
   "outputs": [],
   "source": []
  }
 ],
 "metadata": {
  "kernelspec": {
   "display_name": "Python 3",
   "language": "python",
   "name": "python3"
  },
  "language_info": {
   "codemirror_mode": {
    "name": "ipython",
    "version": 3
   },
   "file_extension": ".py",
   "mimetype": "text/x-python",
   "name": "python",
   "nbconvert_exporter": "python",
   "pygments_lexer": "ipython3",
   "version": "3.12.4"
  }
 },
 "nbformat": 4,
 "nbformat_minor": 2
}
